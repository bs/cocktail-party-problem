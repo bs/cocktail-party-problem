{
 "cells": [
  {
   "cell_type": "code",
   "execution_count": null,
   "metadata": {},
   "outputs": [],
   "source": [
    "cd asteroid"
   ]
  },
  {
   "cell_type": "code",
   "execution_count": null,
   "metadata": {},
   "outputs": [],
   "source": [
    "pip install -r requirements.txt"
   ]
  },
  {
   "cell_type": "code",
   "execution_count": 12,
   "metadata": {},
   "outputs": [
    {
     "name": "stdout",
     "output_type": "stream",
     "text": [
      "/home/peterbermant/Workspace/Cocktail-Party-Problem/Human-Speech-and-Music/Asteroid-Experimentation/Recipes/asteroid\n"
     ]
    }
   ],
   "source": [
    "cd .."
   ]
  },
  {
   "cell_type": "code",
   "execution_count": 1,
   "metadata": {},
   "outputs": [
    {
     "name": "stdout",
     "output_type": "stream",
     "text": [
      "/home/peterbermant/Workspace/Cocktail-Party-Problem/Human-Speech-and-Music/Asteroid-Experimentation/Recipes/asteroid\n"
     ]
    }
   ],
   "source": [
    "cd asteroid"
   ]
  },
  {
   "cell_type": "code",
   "execution_count": 13,
   "metadata": {},
   "outputs": [
    {
     "name": "stdout",
     "output_type": "stream",
     "text": [
      "/home/peterbermant/Workspace/Cocktail-Party-Problem/Human-Speech-and-Music/Asteroid-Experimentation/Recipes/asteroid/egs\n"
     ]
    }
   ],
   "source": [
    "cd egs"
   ]
  },
  {
   "cell_type": "code",
   "execution_count": 14,
   "metadata": {},
   "outputs": [
    {
     "name": "stdout",
     "output_type": "stream",
     "text": [
      "\u001b[0m\u001b[01;34mavspeech\u001b[0m/  \u001b[01;34mdns_challenge\u001b[0m/  \u001b[01;34mkinect-wsj\u001b[0m/  \u001b[01;34mmusdb18\u001b[0m/   \u001b[01;34msms_wsj\u001b[0m/  \u001b[01;34mwham\u001b[0m/   \u001b[01;34mwsj0-mix\u001b[0m/\r\n",
      "\u001b[01;34mdemask\u001b[0m/    \u001b[01;34mfuss\u001b[0m/           \u001b[01;34mlibrimix\u001b[0m/    README.md  \u001b[01;34mtools\u001b[0m/    \u001b[01;34mwhamr\u001b[0m/\r\n"
     ]
    }
   ],
   "source": [
    "ls"
   ]
  },
  {
   "cell_type": "code",
   "execution_count": 15,
   "metadata": {},
   "outputs": [
    {
     "name": "stdout",
     "output_type": "stream",
     "text": [
      "/home/peterbermant/Workspace/Cocktail-Party-Problem/Human-Speech-and-Music/Asteroid-Experimentation/Recipes/asteroid/egs/tools\n"
     ]
    }
   ],
   "source": [
    "cd tools"
   ]
  },
  {
   "cell_type": "code",
   "execution_count": 16,
   "metadata": {},
   "outputs": [
    {
     "name": "stdout",
     "output_type": "stream",
     "text": [
      "\u001b[0m\u001b[01;34msph2pipe_v2.5\u001b[0m/  \u001b[01;31msph2pipe_v2.5.tar.gz\u001b[0m  sph2pipe_v2.5.tar.gz.1\r\n"
     ]
    }
   ],
   "source": [
    "ls"
   ]
  },
  {
   "cell_type": "code",
   "execution_count": 19,
   "metadata": {},
   "outputs": [
    {
     "name": "stdout",
     "output_type": "stream",
     "text": [
      "/home/peterbermant/Workspace/Cocktail-Party-Problem/Human-Speech-and-Music/Asteroid-Experimentation/Recipes/asteroid/egs/wham\n"
     ]
    }
   ],
   "source": [
    "cd wham"
   ]
  },
  {
   "cell_type": "code",
   "execution_count": 20,
   "metadata": {},
   "outputs": [
    {
     "name": "stdout",
     "output_type": "stream",
     "text": [
      "\u001b[0m\u001b[01;34mConvTasNet\u001b[0m/  \u001b[01;34mDPTNet\u001b[0m/         \u001b[01;34mFilterbankDesign\u001b[0m/  \u001b[01;34mTwoStep\u001b[0m/\r\n",
      "\u001b[01;34mDPRNN\u001b[0m/       \u001b[01;34mDynamicMixing\u001b[0m/  README.md\r\n"
     ]
    }
   ],
   "source": [
    "ls"
   ]
  },
  {
   "cell_type": "code",
   "execution_count": 21,
   "metadata": {},
   "outputs": [
    {
     "name": "stdout",
     "output_type": "stream",
     "text": [
      "/home/peterbermant/Workspace/Cocktail-Party-Problem/Human-Speech-and-Music/Asteroid-Experimentation/Recipes/asteroid/egs/wham/DPTNet\n"
     ]
    }
   ],
   "source": [
    "cd DPTNet"
   ]
  },
  {
   "cell_type": "code",
   "execution_count": 22,
   "metadata": {},
   "outputs": [
    {
     "name": "stdout",
     "output_type": "stream",
     "text": [
      "eval.py  \u001b[0m\u001b[01;34mlocal\u001b[0m/  README.md  \u001b[01;32mrun.sh\u001b[0m*  train.py  \u001b[01;34mutils\u001b[0m/\r\n"
     ]
    }
   ],
   "source": [
    "ls"
   ]
  },
  {
   "cell_type": "code",
   "execution_count": 23,
   "metadata": {},
   "outputs": [
    {
     "name": "stdout",
     "output_type": "stream",
     "text": [
      "Results from the following experiment will be stored in exp/train_dptnet_sep_clean_8kmin_e52a4b27\n",
      "Stage 3: Training\n",
      "Traceback (most recent call last):\n",
      "  File \"train.py\", line 145, in <module>\n",
      "{'data': {'mode': 'min',\n",
      "          'nondefault_nsrc': None,\n",
      "          'sample_rate': 8000,\n",
      "          'segment': 2.0,\n",
      "          'task': 'sep_clean',\n",
      "          'train_dir': 'data/wav8k/min/tr',\n",
      "          'valid_dir': 'data/wav8k/min/cv'},\n",
      " 'filterbank': {'kernel_size': 16, 'n_filters': 64, 'stride': 8},\n",
      " 'main_args': {'exp_dir': 'exp/train_dptnet_sep_clean_8kmin_e52a4b27/',\n",
      "               'help': None},\n",
      " 'masknet': {'bidirectional': True,\n",
      "             'chunk_size': 100,\n",
      "             'dropout': 0,\n",
      "             'ff_activation': 'relu',\n",
      "             'ff_hid': 256,\n",
      "             'hop_size': 50,\n",
      "             'in_chan': 64,\n",
      "             'mask_act': 'sigmoid',\n",
      "             'n_repeats': 2,\n",
      "             'n_src': 2,\n",
      "             'norm_type': 'gLN',\n",
      "             'out_chan': 64},\n",
      " 'optim': {'lr': 0.001, 'optimizer': 'adam', 'weight_decay': 1e-05},\n",
      " 'positional arguments': {},\n",
      " 'scheduler': {'d_model': 64, 'steps_per_epoch': 10000},\n",
      " 'training': {'batch_size': 4,\n",
      "              'early_stop': True,\n",
      "              'epochs': 200,\n",
      "              'gradient_clipping': 5,\n",
      "              'half_lr': True,\n",
      "              'num_workers': 4}}\n",
      "    main(arg_dic)\n",
      "  File \"train.py\", line 35, in main\n",
      "    nondefault_nsrc=conf[\"data\"][\"nondefault_nsrc\"],\n",
      "  File \"/opt/conda/lib/python3.7/site-packages/asteroid/data/wham_dataset.py\", line 98, in __init__\n",
      "    with open(mix_json, \"r\") as f:\n",
      "FileNotFoundError: [Errno 2] No such file or directory: 'data/wav8k/min/tr/mix_clean.json'\n"
     ]
    }
   ],
   "source": [
    "!. ./run.sh"
   ]
  },
  {
   "cell_type": "code",
   "execution_count": null,
   "metadata": {},
   "outputs": [],
   "source": []
  },
  {
   "cell_type": "code",
   "execution_count": null,
   "metadata": {},
   "outputs": [],
   "source": []
  },
  {
   "cell_type": "code",
   "execution_count": null,
   "metadata": {},
   "outputs": [],
   "source": []
  },
  {
   "cell_type": "code",
   "execution_count": null,
   "metadata": {},
   "outputs": [],
   "source": []
  },
  {
   "cell_type": "code",
   "execution_count": null,
   "metadata": {},
   "outputs": [],
   "source": []
  },
  {
   "cell_type": "code",
   "execution_count": 1,
   "metadata": {},
   "outputs": [
    {
     "name": "stdout",
     "output_type": "stream",
     "text": [
      "/home/peterbermant/Workspace/Cocktail-Party-Problem/Human-Speech-and-Music/Asteroid-Experimentation/Recipes/asteroid\n"
     ]
    }
   ],
   "source": [
    "cd asteroid"
   ]
  },
  {
   "cell_type": "code",
   "execution_count": 3,
   "metadata": {},
   "outputs": [
    {
     "name": "stdout",
     "output_type": "stream",
     "text": [
      "/home/peterbermant/Workspace/Cocktail-Party-Problem/Human-Speech-and-Music/Asteroid-Experimentation/Recipes/asteroid/egs/wsj0-mix\n"
     ]
    }
   ],
   "source": [
    "cd egs/wsj0-mix"
   ]
  },
  {
   "cell_type": "code",
   "execution_count": 4,
   "metadata": {},
   "outputs": [
    {
     "name": "stdout",
     "output_type": "stream",
     "text": [
      "\u001b[0m\u001b[01;34mDeepClustering\u001b[0m/  README.md\r\n"
     ]
    }
   ],
   "source": [
    "ls"
   ]
  },
  {
   "cell_type": "code",
   "execution_count": 5,
   "metadata": {},
   "outputs": [
    {
     "name": "stdout",
     "output_type": "stream",
     "text": [
      "/home/peterbermant/Workspace/Cocktail-Party-Problem/Human-Speech-and-Music/Asteroid-Experimentation/Recipes/asteroid/egs/wsj0-mix/DeepClustering\n"
     ]
    }
   ],
   "source": [
    "cd DeepClustering"
   ]
  },
  {
   "cell_type": "code",
   "execution_count": 6,
   "metadata": {},
   "outputs": [
    {
     "name": "stdout",
     "output_type": "stream",
     "text": [
      "eval.py  model.py   requirements.txt  train.py\r\n",
      "\u001b[0m\u001b[01;34mlocal\u001b[0m/   README.md  \u001b[01;32mrun.sh\u001b[0m*           \u001b[01;36mutils\u001b[0m@\r\n"
     ]
    }
   ],
   "source": [
    "ls"
   ]
  },
  {
   "cell_type": "code",
   "execution_count": 7,
   "metadata": {},
   "outputs": [
    {
     "name": "stdout",
     "output_type": "stream",
     "text": [
      "Results from the following experiment will be stored in exp/train_chimera_2sep_8kmin_7a1ce493\n",
      "Stage 3: Training\n",
      "/opt/conda/lib/python3.7/site-packages/asteroid/masknn/blocks.py:8: VisibleDeprecationWarning: `blocks` has been splited between `convolutional` and `recurrent` since asteroid v0.2.0 and will be removed in v0.3.0\n",
      "  VisibleDeprecationWarning,\n",
      "Traceback (most recent call last):\n",
      "  File \"train.py\", line 204, in <module>\n",
      "{'data': {'n_src': 2,\n",
      "          'sample_rate': 8000,\n",
      "          'train_dir': 'data/2speakers/wav8k/min/tr',\n",
      "          'valid_dir': 'data/2speakers/wav8k/min/cv'},\n",
      " 'filterbank': {'kernel_size': 256, 'n_filters': 256, 'stride': 64},\n",
      " 'main_args': {'exp_dir': 'exp/train_chimera_2sep_8kmin_7a1ce493/',\n",
      "               'help': None},\n",
      " 'masknet': {'dropout': 0.3,\n",
      "             'embedding_dim': 40,\n",
      "             'hidden_size': 600,\n",
      "             'n_layers': 4,\n",
      "             'rnn_type': 'lstm',\n",
      "             'take_log': True},\n",
      " 'optim': {'lr': 0.0001, 'optimizer': 'rmsprop', 'weight_decay': 0.0},\n",
      " 'positional arguments': {},\n",
      " 'training': {'batch_size': 32,\n",
      "              'early_stop': True,\n",
      "              'epochs': 200,\n",
      "              'half_lr': True,\n",
      "              'loss_alpha': 1.0,\n",
      "              'num_workers': 8}}\n",
      "    main(arg_dic)\n",
      "  File \"train.py\", line 27, in main\n",
      "    train_loader, val_loader = make_dataloaders(**conf[\"data\"], **conf[\"training\"])\n",
      "  File \"/opt/conda/lib/python3.7/site-packages/asteroid/data/wsj0_mix.py\", line 20, in make_dataloaders\n",
      "    train_set = Wsj0mixDataset(train_dir, n_src=n_src, sample_rate=sample_rate, segment=segment)\n",
      "  File \"/opt/conda/lib/python3.7/site-packages/asteroid/data/wsj0_mix.py\", line 64, in __init__\n",
      "    with open(mix_json, \"r\") as f:\n",
      "FileNotFoundError: [Errno 2] No such file or directory: 'data/2speakers/wav8k/min/tr/mix.json'\n"
     ]
    }
   ],
   "source": [
    "!. ./run.sh"
   ]
  },
  {
   "cell_type": "code",
   "execution_count": null,
   "metadata": {},
   "outputs": [],
   "source": []
  },
  {
   "cell_type": "code",
   "execution_count": null,
   "metadata": {},
   "outputs": [],
   "source": []
  },
  {
   "cell_type": "code",
   "execution_count": null,
   "metadata": {},
   "outputs": [],
   "source": []
  },
  {
   "cell_type": "code",
   "execution_count": null,
   "metadata": {},
   "outputs": [],
   "source": []
  },
  {
   "cell_type": "code",
   "execution_count": null,
   "metadata": {},
   "outputs": [],
   "source": []
  },
  {
   "cell_type": "code",
   "execution_count": null,
   "metadata": {},
   "outputs": [],
   "source": []
  },
  {
   "cell_type": "code",
   "execution_count": null,
   "metadata": {},
   "outputs": [],
   "source": []
  },
  {
   "cell_type": "code",
   "execution_count": null,
   "metadata": {},
   "outputs": [],
   "source": []
  },
  {
   "cell_type": "code",
   "execution_count": 3,
   "metadata": {},
   "outputs": [
    {
     "name": "stdout",
     "output_type": "stream",
     "text": [
      "/home/peterbermant/Workspace/Cocktail-Party-Problem/Human-Speech-and-Music/Asteroid-Experimentation/Recipes/asteroid\n"
     ]
    }
   ],
   "source": [
    "cd asteroid"
   ]
  },
  {
   "cell_type": "code",
   "execution_count": 4,
   "metadata": {},
   "outputs": [
    {
     "name": "stdout",
     "output_type": "stream",
     "text": [
      "/home/peterbermant/Workspace/Cocktail-Party-Problem/Human-Speech-and-Music/Asteroid-Experimentation/Recipes/asteroid/egs/wham/ConvTasNet\n"
     ]
    }
   ],
   "source": [
    "cd egs/wham/ConvTasNet"
   ]
  },
  {
   "cell_type": "code",
   "execution_count": 5,
   "metadata": {},
   "outputs": [
    {
     "name": "stdout",
     "output_type": "stream",
     "text": [
      "Stage 0: Converting sphere files to wav files\n",
      "Download sph2pipe_v2.5 into egs/tools\n",
      "--2020-09-15 16:59:20--  http://www.openslr.org/resources/3/sph2pipe_v2.5.tar.gz\n",
      "Resolving www.openslr.org (www.openslr.org)... 46.101.158.64\n",
      "Connecting to www.openslr.org (www.openslr.org)|46.101.158.64|:80... connected.\n",
      "HTTP request sent, awaiting response... 200 OK\n",
      "Length: 329832 (322K) [application/x-gzip]\n",
      "Saving to: ‘../../tools/sph2pipe_v2.5.tar.gz’\n",
      "\n",
      "sph2pipe_v2.5.tar.g 100%[===================>] 322.10K   377KB/s    in 0.9s    \n",
      "\n",
      "2020-09-15 16:59:21 (377 KB/s) - ‘../../tools/sph2pipe_v2.5.tar.gz’ saved [329832/329832]\n",
      "\n",
      "sph2pipe_v2.5\n",
      "sph2pipe_v2.5/0readme.1st\n",
      "sph2pipe_v2.5/bitshift.h\n",
      "sph2pipe_v2.5/file_headers.c\n",
      "sph2pipe_v2.5/shorten_x.c\n",
      "sph2pipe_v2.5/sph2pipe.c\n",
      "sph2pipe_v2.5/sph_convert.h\n",
      "sph2pipe_v2.5/test\n",
      "sph2pipe_v2.5/test/123_1pcbe_shn.sph\n",
      "sph2pipe_v2.5/test/123_1pcle_shn.sph\n",
      "sph2pipe_v2.5/test/123_1ulaw_shn.sph\n",
      "sph2pipe_v2.5/test/123_2alaw.sph\n",
      "sph2pipe_v2.5/test/123_2pcbe_shn.sph\n",
      "sph2pipe_v2.5/test/123_2pcle_shn.sph\n",
      "sph2pipe_v2.5/test/123_2ulaw_shn.sph\n",
      "sph2pipe_v2.5/test/big1.hdr\n",
      "sph2pipe_v2.5/test/big2.hdr\n",
      "sph2pipe_v2.5/test/outfile-md5.list.macosx\n",
      "sph2pipe_v2.5/test/std1.hdr\n",
      "sph2pipe_v2.5/test/std2.hdr\n",
      "sph2pipe_v2.5/test/test_all.pl\n",
      "sph2pipe_v2.5/ulaw.h\n",
      "sph2pipe_v2.5/sph2pipe.exe\n",
      "\u001b[01m\u001b[Ksph2pipe_v2.5/file_headers.c:\u001b[m\u001b[K In function ‘\u001b[01m\u001b[Kcopyshort\u001b[m\u001b[K’:\n",
      "\u001b[01m\u001b[Ksph2pipe_v2.5/file_headers.c:326:2:\u001b[m\u001b[K \u001b[01;35m\u001b[Kwarning: \u001b[m\u001b[Kimplicit declaration of function ‘\u001b[01m\u001b[Kswab\u001b[m\u001b[K’ [\u001b[01;35m\u001b[K-Wimplicit-function-declaration\u001b[m\u001b[K]\n",
      "  \u001b[01;35m\u001b[Kswab\u001b[m\u001b[K((char *) &val, short_order.ch, 2 );\n",
      "  \u001b[01;35m\u001b[K^~~~\u001b[m\u001b[K\n",
      "\u001b[01m\u001b[Ksph2pipe_v2.5/file_headers.c:\u001b[m\u001b[K At top level:\n",
      "\u001b[01m\u001b[Ksph2pipe_v2.5/file_headers.c:579:1:\u001b[m\u001b[K \u001b[01;35m\u001b[Kwarning: \u001b[m\u001b[Kreturn type defaults to ‘\u001b[01m\u001b[Kint\u001b[m\u001b[K’ [\u001b[01;35m\u001b[K-Wimplicit-int\u001b[m\u001b[K]\n",
      " \u001b[01;35m\u001b[KConvertToIeeeExtended\u001b[m\u001b[K(num, bytes)\n",
      " \u001b[01;35m\u001b[K^~~~~~~~~~~~~~~~~~~~~\u001b[m\u001b[K\n",
      "\u001b[01m\u001b[Ksph2pipe_v2.5/shorten_x.c:\u001b[m\u001b[K In function ‘\u001b[01m\u001b[Kfwrite_type\u001b[m\u001b[K’:\n",
      "\u001b[01m\u001b[Ksph2pipe_v2.5/shorten_x.c:325:22:\u001b[m\u001b[K \u001b[01;35m\u001b[Kwarning: \u001b[m\u001b[Kimplicit declaration of function ‘\u001b[01m\u001b[Kpcm2alaw\u001b[m\u001b[K’ [\u001b[01;35m\u001b[K-Wimplicit-function-declaration\u001b[m\u001b[K]\n",
      "       *writebufp++ = \u001b[01;35m\u001b[Kpcm2alaw\u001b[m\u001b[K( ulaw2pcm[data0[i]] );\n",
      "                      \u001b[01;35m\u001b[K^~~~~~~~\u001b[m\u001b[K\n",
      "\u001b[01m\u001b[Ksph2pipe_v2.5/shorten_x.c:381:24:\u001b[m\u001b[K \u001b[01;35m\u001b[Kwarning: \u001b[m\u001b[Kimplicit declaration of function ‘\u001b[01m\u001b[Kpcm2ulaw\u001b[m\u001b[K’ [\u001b[01;35m\u001b[K-Wimplicit-function-declaration\u001b[m\u001b[K]\n",
      "         *writebufp++ = \u001b[01;35m\u001b[Kpcm2ulaw\u001b[m\u001b[K( data0[i] );\n",
      "                        \u001b[01;35m\u001b[K^~~~~~~~\u001b[m\u001b[K\n",
      "\u001b[01m\u001b[Ksph2pipe_v2.5/shorten_x.c:464:6:\u001b[m\u001b[K \u001b[01;35m\u001b[Kwarning: \u001b[m\u001b[Kimplicit declaration of function ‘\u001b[01m\u001b[Kswab\u001b[m\u001b[K’ [\u001b[01;35m\u001b[K-Wimplicit-function-declaration\u001b[m\u001b[K]\n",
      "      \u001b[01;35m\u001b[Kswab\u001b[m\u001b[K(writebuf, writefub, sizeout * nchanout * nitem);\n",
      "      \u001b[01;35m\u001b[K^~~~\u001b[m\u001b[K\n",
      "\u001b[01m\u001b[Ksph2pipe_v2.5/sph2pipe.c:\u001b[m\u001b[K In function ‘\u001b[01m\u001b[KgetUserOpts\u001b[m\u001b[K’:\n",
      "\u001b[01m\u001b[Ksph2pipe_v2.5/sph2pipe.c:191:18:\u001b[m\u001b[K \u001b[01;35m\u001b[Kwarning: \u001b[m\u001b[Kimplicit declaration of function ‘\u001b[01m\u001b[Kgetopt\u001b[m\u001b[K’ [\u001b[01;35m\u001b[K-Wimplicit-function-declaration\u001b[m\u001b[K]\n",
      "     while (( i = \u001b[01;35m\u001b[Kgetopt\u001b[m\u001b[K( ac, av, \"daupf:c:t:s:h:\" )) != EOF )\n",
      "                  \u001b[01;35m\u001b[K^~~~~~\u001b[m\u001b[K\n",
      "\u001b[01m\u001b[Ksph2pipe_v2.5/sph2pipe.c:\u001b[m\u001b[K In function ‘\u001b[01m\u001b[KcopySamples\u001b[m\u001b[K’:\n",
      "\u001b[01m\u001b[Ksph2pipe_v2.5/sph2pipe.c:537:3:\u001b[m\u001b[K \u001b[01;35m\u001b[Kwarning: \u001b[m\u001b[Kimplicit declaration of function ‘\u001b[01m\u001b[Kswab\u001b[m\u001b[K’ [\u001b[01;35m\u001b[K-Wimplicit-function-declaration\u001b[m\u001b[K]\n",
      "   \u001b[01;35m\u001b[Kswab\u001b[m\u001b[K( outbuf, inpbuf, nb );      /* it, do byte swapping too */\n",
      "   \u001b[01;35m\u001b[K^~~~\u001b[m\u001b[K\n",
      "/home/peterbermant/Workspace/Cocktail-Party-Problem/Human-Speech-and-Music/Asteroid-Experimentation/Recipes/asteroid/egs/wham/ConvTasNet\n",
      "Convert sphere format to wav format\n",
      "find: unknown predicate `--wav_dir'\n",
      "Try 'find --help' for more information.\n"
     ]
    }
   ],
   "source": [
    "!. ./run.sh"
   ]
  },
  {
   "cell_type": "code",
   "execution_count": null,
   "metadata": {},
   "outputs": [],
   "source": []
  },
  {
   "cell_type": "code",
   "execution_count": null,
   "metadata": {},
   "outputs": [],
   "source": []
  },
  {
   "cell_type": "code",
   "execution_count": null,
   "metadata": {},
   "outputs": [],
   "source": []
  },
  {
   "cell_type": "code",
   "execution_count": null,
   "metadata": {},
   "outputs": [],
   "source": []
  },
  {
   "cell_type": "code",
   "execution_count": null,
   "metadata": {},
   "outputs": [],
   "source": []
  },
  {
   "cell_type": "code",
   "execution_count": null,
   "metadata": {},
   "outputs": [],
   "source": []
  },
  {
   "cell_type": "code",
   "execution_count": null,
   "metadata": {},
   "outputs": [],
   "source": []
  },
  {
   "cell_type": "code",
   "execution_count": null,
   "metadata": {},
   "outputs": [],
   "source": []
  },
  {
   "cell_type": "code",
   "execution_count": null,
   "metadata": {},
   "outputs": [],
   "source": [
    "cd"
   ]
  },
  {
   "cell_type": "code",
   "execution_count": null,
   "metadata": {},
   "outputs": [],
   "source": [
    "cd Workspace/Cocktail-Party-Problem/Human-Speech-and-Music/Asteroid-Experimentation/Recipes/Asteroid"
   ]
  },
  {
   "cell_type": "code",
   "execution_count": null,
   "metadata": {},
   "outputs": [],
   "source": [
    "cd egs"
   ]
  },
  {
   "cell_type": "code",
   "execution_count": null,
   "metadata": {},
   "outputs": [],
   "source": [
    "ls"
   ]
  },
  {
   "cell_type": "code",
   "execution_count": null,
   "metadata": {},
   "outputs": [],
   "source": [
    "cd wham"
   ]
  },
  {
   "cell_type": "code",
   "execution_count": null,
   "metadata": {},
   "outputs": [],
   "source": [
    "ls"
   ]
  },
  {
   "cell_type": "code",
   "execution_count": null,
   "metadata": {},
   "outputs": [],
   "source": [
    "cd ConvTasNet"
   ]
  },
  {
   "cell_type": "code",
   "execution_count": null,
   "metadata": {},
   "outputs": [],
   "source": [
    "ls"
   ]
  },
  {
   "cell_type": "code",
   "execution_count": null,
   "metadata": {},
   "outputs": [],
   "source": [
    "!. ./run.sh"
   ]
  },
  {
   "cell_type": "code",
   "execution_count": null,
   "metadata": {},
   "outputs": [],
   "source": [
    "cd tmp"
   ]
  },
  {
   "cell_type": "code",
   "execution_count": null,
   "metadata": {},
   "outputs": [],
   "source": [
    "ls"
   ]
  },
  {
   "cell_type": "code",
   "execution_count": null,
   "metadata": {},
   "outputs": [],
   "source": [
    "cd wham_scripts"
   ]
  },
  {
   "cell_type": "code",
   "execution_count": null,
   "metadata": {},
   "outputs": [],
   "source": [
    "ls"
   ]
  },
  {
   "cell_type": "code",
   "execution_count": null,
   "metadata": {},
   "outputs": [],
   "source": []
  },
  {
   "cell_type": "code",
   "execution_count": null,
   "metadata": {},
   "outputs": [],
   "source": []
  },
  {
   "cell_type": "code",
   "execution_count": null,
   "metadata": {},
   "outputs": [],
   "source": []
  },
  {
   "cell_type": "code",
   "execution_count": null,
   "metadata": {},
   "outputs": [],
   "source": []
  },
  {
   "cell_type": "code",
   "execution_count": null,
   "metadata": {},
   "outputs": [],
   "source": []
  },
  {
   "cell_type": "code",
   "execution_count": null,
   "metadata": {},
   "outputs": [],
   "source": []
  },
  {
   "cell_type": "code",
   "execution_count": null,
   "metadata": {},
   "outputs": [],
   "source": []
  },
  {
   "cell_type": "code",
   "execution_count": null,
   "metadata": {},
   "outputs": [],
   "source": []
  },
  {
   "cell_type": "code",
   "execution_count": null,
   "metadata": {},
   "outputs": [],
   "source": []
  },
  {
   "cell_type": "code",
   "execution_count": null,
   "metadata": {},
   "outputs": [],
   "source": [
    "cd Asteroid"
   ]
  },
  {
   "cell_type": "code",
   "execution_count": null,
   "metadata": {},
   "outputs": [],
   "source": [
    "cd egs/librimix"
   ]
  },
  {
   "cell_type": "code",
   "execution_count": null,
   "metadata": {},
   "outputs": [],
   "source": [
    "cd ConvTasNet"
   ]
  },
  {
   "cell_type": "code",
   "execution_count": null,
   "metadata": {},
   "outputs": [],
   "source": [
    "!. ./run.sh"
   ]
  },
  {
   "cell_type": "code",
   "execution_count": null,
   "metadata": {},
   "outputs": [],
   "source": []
  },
  {
   "cell_type": "code",
   "execution_count": null,
   "metadata": {},
   "outputs": [],
   "source": []
  },
  {
   "cell_type": "code",
   "execution_count": null,
   "metadata": {},
   "outputs": [],
   "source": []
  },
  {
   "cell_type": "code",
   "execution_count": null,
   "metadata": {},
   "outputs": [],
   "source": []
  },
  {
   "cell_type": "code",
   "execution_count": null,
   "metadata": {},
   "outputs": [],
   "source": []
  },
  {
   "cell_type": "code",
   "execution_count": null,
   "metadata": {},
   "outputs": [],
   "source": []
  },
  {
   "cell_type": "code",
   "execution_count": null,
   "metadata": {},
   "outputs": [],
   "source": []
  },
  {
   "cell_type": "code",
   "execution_count": null,
   "metadata": {},
   "outputs": [],
   "source": []
  },
  {
   "cell_type": "code",
   "execution_count": null,
   "metadata": {},
   "outputs": [],
   "source": []
  },
  {
   "cell_type": "code",
   "execution_count": null,
   "metadata": {},
   "outputs": [],
   "source": []
  },
  {
   "cell_type": "code",
   "execution_count": null,
   "metadata": {},
   "outputs": [],
   "source": []
  },
  {
   "cell_type": "code",
   "execution_count": null,
   "metadata": {},
   "outputs": [],
   "source": []
  },
  {
   "cell_type": "code",
   "execution_count": null,
   "metadata": {},
   "outputs": [],
   "source": [
    "cd Asteroid"
   ]
  },
  {
   "cell_type": "code",
   "execution_count": null,
   "metadata": {},
   "outputs": [],
   "source": [
    "ls"
   ]
  },
  {
   "cell_type": "code",
   "execution_count": null,
   "metadata": {},
   "outputs": [],
   "source": [
    "cd egs/wham/ConvTasNet"
   ]
  },
  {
   "cell_type": "code",
   "execution_count": null,
   "metadata": {},
   "outputs": [],
   "source": [
    "ls"
   ]
  },
  {
   "cell_type": "code",
   "execution_count": null,
   "metadata": {},
   "outputs": [],
   "source": [
    "!. ./run.sh"
   ]
  },
  {
   "cell_type": "code",
   "execution_count": null,
   "metadata": {},
   "outputs": [],
   "source": [
    "cd .."
   ]
  },
  {
   "cell_type": "code",
   "execution_count": null,
   "metadata": {},
   "outputs": [],
   "source": [
    "cd .."
   ]
  },
  {
   "cell_type": "code",
   "execution_count": null,
   "metadata": {},
   "outputs": [],
   "source": [
    "ls"
   ]
  },
  {
   "cell_type": "code",
   "execution_count": null,
   "metadata": {},
   "outputs": [],
   "source": [
    "cd wsj0-mix"
   ]
  },
  {
   "cell_type": "code",
   "execution_count": null,
   "metadata": {},
   "outputs": [],
   "source": [
    "ls"
   ]
  },
  {
   "cell_type": "code",
   "execution_count": null,
   "metadata": {},
   "outputs": [],
   "source": [
    "cd .."
   ]
  },
  {
   "cell_type": "code",
   "execution_count": null,
   "metadata": {},
   "outputs": [],
   "source": [
    "ls"
   ]
  },
  {
   "cell_type": "code",
   "execution_count": null,
   "metadata": {},
   "outputs": [],
   "source": [
    "cd egs/librimix"
   ]
  },
  {
   "cell_type": "code",
   "execution_count": null,
   "metadata": {},
   "outputs": [],
   "source": [
    "cd ConvTasNet"
   ]
  },
  {
   "cell_type": "code",
   "execution_count": null,
   "metadata": {},
   "outputs": [],
   "source": [
    "ls"
   ]
  },
  {
   "cell_type": "code",
   "execution_count": null,
   "metadata": {},
   "outputs": [],
   "source": [
    "!. ./run.sh"
   ]
  }
 ],
 "metadata": {
  "kernelspec": {
   "display_name": "Python 3",
   "language": "python",
   "name": "python3"
  },
  "language_info": {
   "codemirror_mode": {
    "name": "ipython",
    "version": 3
   },
   "file_extension": ".py",
   "mimetype": "text/x-python",
   "name": "python",
   "nbconvert_exporter": "python",
   "pygments_lexer": "ipython3",
   "version": "3.7.6"
  }
 },
 "nbformat": 4,
 "nbformat_minor": 4
}
